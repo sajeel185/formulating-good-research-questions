{
 "cells": [
  {
   "cell_type": "markdown",
   "metadata": {},
   "source": [
    "# Formulating good research questions\n",
    "\n",
    "\n",
    "### 1. Good\n",
    "\n",
    "### 2. Bad; What characteristics are common among juvenile delinquents?\n",
    "\n",
    "### 3. Good\n",
    "\n",
    "### 4. Good\n",
    "\n",
    "### 5. Good\n",
    "\n",
    "### 6. Bad; What factors are most important to customers looking for a service provider?\n",
    "\n",
    "### 7. Bad; Which anomalies were present when the challenger shuttle exploded?\n",
    "\n",
    "### 8. Good\n",
    "\n",
    "### 9. Bad; Do people believe it is better to read to children at night, or in the morning?\n",
    "\n",
    "### 10. Bad; What does Google's search algorithm prioritize?"
   ]
  }
 ],
 "metadata": {
  "kernelspec": {
   "display_name": "Python 3",
   "language": "python",
   "name": "python3"
  },
  "language_info": {
   "codemirror_mode": {
    "name": "ipython",
    "version": 3
   },
   "file_extension": ".py",
   "mimetype": "text/x-python",
   "name": "python",
   "nbconvert_exporter": "python",
   "pygments_lexer": "ipython3",
   "version": "3.7.0"
  }
 },
 "nbformat": 4,
 "nbformat_minor": 2
}
